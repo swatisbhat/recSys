{
 "cells": [
  {
   "cell_type": "markdown",
   "metadata": {},
   "source": [
    "## Generation of recommendations based on it"
   ]
  },
  {
   "cell_type": "code",
   "execution_count": 3,
   "metadata": {
    "collapsed": true
   },
   "outputs": [],
   "source": [
    "import pandas as pd\n",
    "import random\n",
    "from scipy.sparse import csr_matrix\n",
    "import sklearn\n",
    "import numpy as np"
   ]
  },
  {
   "cell_type": "code",
   "execution_count": 4,
   "metadata": {
    "collapsed": false
   },
   "outputs": [
    {
     "data": {
      "text/html": [
       "<div>\n",
       "<table border=\"1\" class=\"dataframe\">\n",
       "  <thead>\n",
       "    <tr style=\"text-align: right;\">\n",
       "      <th></th>\n",
       "      <th>book_id</th>\n",
       "      <th>title</th>\n",
       "    </tr>\n",
       "  </thead>\n",
       "  <tbody>\n",
       "    <tr>\n",
       "      <th>0</th>\n",
       "      <td>27</td>\n",
       "      <td>A Woman of Substance (Emma Harte Saga #1)</td>\n",
       "    </tr>\n",
       "    <tr>\n",
       "      <th>1</th>\n",
       "      <td>21</td>\n",
       "      <td>Bergdorf Blondes</td>\n",
       "    </tr>\n",
       "    <tr>\n",
       "      <th>2</th>\n",
       "      <td>2</td>\n",
       "      <td>InÃ©s of My Soul</td>\n",
       "    </tr>\n",
       "    <tr>\n",
       "      <th>3</th>\n",
       "      <td>18</td>\n",
       "      <td>The Far Pavilions</td>\n",
       "    </tr>\n",
       "    <tr>\n",
       "      <th>4</th>\n",
       "      <td>24</td>\n",
       "      <td>Where the Red Fern Grows</td>\n",
       "    </tr>\n",
       "  </tbody>\n",
       "</table>\n",
       "</div>"
      ],
      "text/plain": [
       "   book_id                                      title\n",
       "0       27  A Woman of Substance (Emma Harte Saga #1)\n",
       "1       21                           Bergdorf Blondes\n",
       "2        2                           InÃ©s of My Soul\n",
       "3       18                          The Far Pavilions\n",
       "4       24                   Where the Red Fern Grows"
      ]
     },
     "execution_count": 4,
     "metadata": {},
     "output_type": "execute_result"
    }
   ],
   "source": [
    "books = pd.read_csv('books.csv', sep=';', error_bad_lines=False, encoding=\"latin-1\")\n",
    "books.columns=['book_id','authors','title','average_rating','ratings_count']\n",
    "\n",
    "books[['book_id','title']].head()"
   ]
  },
  {
   "cell_type": "code",
   "execution_count": 5,
   "metadata": {
    "collapsed": false
   },
   "outputs": [
    {
     "data": {
      "text/plain": [
       "count    9.937000e+03\n",
       "mean     5.995367e+04\n",
       "std      1.682987e+05\n",
       "min      6.823000e+03\n",
       "25%      1.548200e+04\n",
       "50%      2.392600e+04\n",
       "75%      4.615300e+04\n",
       "max      4.942365e+06\n",
       "Name: ratings_count, dtype: float64"
      ]
     },
     "execution_count": 5,
     "metadata": {},
     "output_type": "execute_result"
    }
   ],
   "source": [
    "books['ratings_count'].describe()"
   ]
  },
  {
   "cell_type": "code",
   "execution_count": 6,
   "metadata": {
    "collapsed": false
   },
   "outputs": [],
   "source": [
    "books = books[books['ratings_count']>13000]"
   ]
  },
  {
   "cell_type": "code",
   "execution_count": 7,
   "metadata": {
    "collapsed": false
   },
   "outputs": [
    {
     "data": {
      "text/html": [
       "<div>\n",
       "<table border=\"1\" class=\"dataframe\">\n",
       "  <thead>\n",
       "    <tr style=\"text-align: right;\">\n",
       "      <th></th>\n",
       "      <th>book_id</th>\n",
       "      <th>authors</th>\n",
       "      <th>title</th>\n",
       "      <th>average_rating</th>\n",
       "      <th>ratings_count</th>\n",
       "    </tr>\n",
       "  </thead>\n",
       "  <tbody>\n",
       "    <tr>\n",
       "      <th>0</th>\n",
       "      <td>27</td>\n",
       "      <td>Barbara Taylor Bradford</td>\n",
       "      <td>A Woman of Substance (Emma Harte Saga #1)</td>\n",
       "      <td>4.16</td>\n",
       "      <td>32932</td>\n",
       "    </tr>\n",
       "    <tr>\n",
       "      <th>1</th>\n",
       "      <td>21</td>\n",
       "      <td>Plum Sykes</td>\n",
       "      <td>Bergdorf Blondes</td>\n",
       "      <td>3.26</td>\n",
       "      <td>25822</td>\n",
       "    </tr>\n",
       "    <tr>\n",
       "      <th>2</th>\n",
       "      <td>2</td>\n",
       "      <td>Isabel Allende</td>\n",
       "      <td>InÃ©s of My Soul</td>\n",
       "      <td>3.90</td>\n",
       "      <td>17411</td>\n",
       "    </tr>\n",
       "    <tr>\n",
       "      <th>3</th>\n",
       "      <td>18</td>\n",
       "      <td>M.M. Kaye</td>\n",
       "      <td>The Far Pavilions</td>\n",
       "      <td>4.20</td>\n",
       "      <td>34522</td>\n",
       "    </tr>\n",
       "    <tr>\n",
       "      <th>4</th>\n",
       "      <td>24</td>\n",
       "      <td>Wilson Rawls</td>\n",
       "      <td>Where the Red Fern Grows</td>\n",
       "      <td>4.04</td>\n",
       "      <td>280179</td>\n",
       "    </tr>\n",
       "  </tbody>\n",
       "</table>\n",
       "</div>"
      ],
      "text/plain": [
       "   book_id                  authors  \\\n",
       "0       27  Barbara Taylor Bradford   \n",
       "1       21               Plum Sykes   \n",
       "2        2           Isabel Allende   \n",
       "3       18                M.M. Kaye   \n",
       "4       24             Wilson Rawls   \n",
       "\n",
       "                                       title  average_rating  ratings_count  \n",
       "0  A Woman of Substance (Emma Harte Saga #1)            4.16          32932  \n",
       "1                           Bergdorf Blondes            3.26          25822  \n",
       "2                           InÃ©s of My Soul            3.90          17411  \n",
       "3                          The Far Pavilions            4.20          34522  \n",
       "4                   Where the Red Fern Grows            4.04         280179  "
      ]
     },
     "execution_count": 7,
     "metadata": {},
     "output_type": "execute_result"
    }
   ],
   "source": [
    "books.head()"
   ]
  },
  {
   "cell_type": "code",
   "execution_count": 8,
   "metadata": {
    "collapsed": false
   },
   "outputs": [
    {
     "data": {
      "text/html": [
       "<div>\n",
       "<table border=\"1\" class=\"dataframe\">\n",
       "  <thead>\n",
       "    <tr style=\"text-align: right;\">\n",
       "      <th></th>\n",
       "      <th>user_id</th>\n",
       "      <th>book_id</th>\n",
       "      <th>rating</th>\n",
       "    </tr>\n",
       "  </thead>\n",
       "  <tbody>\n",
       "    <tr>\n",
       "      <th>0</th>\n",
       "      <td>1</td>\n",
       "      <td>258</td>\n",
       "      <td>5</td>\n",
       "    </tr>\n",
       "    <tr>\n",
       "      <th>1</th>\n",
       "      <td>2</td>\n",
       "      <td>4081</td>\n",
       "      <td>4</td>\n",
       "    </tr>\n",
       "    <tr>\n",
       "      <th>2</th>\n",
       "      <td>2</td>\n",
       "      <td>260</td>\n",
       "      <td>5</td>\n",
       "    </tr>\n",
       "    <tr>\n",
       "      <th>3</th>\n",
       "      <td>2</td>\n",
       "      <td>9296</td>\n",
       "      <td>5</td>\n",
       "    </tr>\n",
       "    <tr>\n",
       "      <th>4</th>\n",
       "      <td>2</td>\n",
       "      <td>2318</td>\n",
       "      <td>3</td>\n",
       "    </tr>\n",
       "  </tbody>\n",
       "</table>\n",
       "</div>"
      ],
      "text/plain": [
       "   user_id  book_id  rating\n",
       "0        1      258       5\n",
       "1        2     4081       4\n",
       "2        2      260       5\n",
       "3        2     9296       5\n",
       "4        2     2318       3"
      ]
     },
     "execution_count": 8,
     "metadata": {},
     "output_type": "execute_result"
    }
   ],
   "source": [
    "ratings = pd.read_csv('ratings.csv',sep=',',error_bad_lines=False, encoding=\"latin-1\")\n",
    "ratings.head()"
   ]
  },
  {
   "cell_type": "code",
   "execution_count": 9,
   "metadata": {
    "collapsed": false
   },
   "outputs": [
    {
     "data": {
      "text/html": [
       "<div>\n",
       "<table border=\"1\" class=\"dataframe\">\n",
       "  <thead>\n",
       "    <tr style=\"text-align: right;\">\n",
       "      <th></th>\n",
       "      <th>user_id</th>\n",
       "      <th>book_id</th>\n",
       "      <th>rating</th>\n",
       "    </tr>\n",
       "  </thead>\n",
       "  <tbody>\n",
       "    <tr>\n",
       "      <th>0</th>\n",
       "      <td>1</td>\n",
       "      <td>258</td>\n",
       "      <td>5</td>\n",
       "    </tr>\n",
       "    <tr>\n",
       "      <th>1</th>\n",
       "      <td>2</td>\n",
       "      <td>4081</td>\n",
       "      <td>4</td>\n",
       "    </tr>\n",
       "    <tr>\n",
       "      <th>2</th>\n",
       "      <td>2</td>\n",
       "      <td>260</td>\n",
       "      <td>5</td>\n",
       "    </tr>\n",
       "    <tr>\n",
       "      <th>3</th>\n",
       "      <td>2</td>\n",
       "      <td>9296</td>\n",
       "      <td>5</td>\n",
       "    </tr>\n",
       "    <tr>\n",
       "      <th>4</th>\n",
       "      <td>2</td>\n",
       "      <td>2318</td>\n",
       "      <td>3</td>\n",
       "    </tr>\n",
       "  </tbody>\n",
       "</table>\n",
       "</div>"
      ],
      "text/plain": [
       "   user_id  book_id  rating\n",
       "0        1      258       5\n",
       "1        2     4081       4\n",
       "2        2      260       5\n",
       "3        2     9296       5\n",
       "4        2     2318       3"
      ]
     },
     "execution_count": 9,
     "metadata": {},
     "output_type": "execute_result"
    }
   ],
   "source": [
    "#get ratings only for the books present in the books dataset\n",
    "ratings = ratings.loc[ratings['book_id'].isin(books['book_id'])]\n",
    "ratings.head()"
   ]
  },
  {
   "cell_type": "code",
   "execution_count": 10,
   "metadata": {
    "collapsed": false
   },
   "outputs": [
    {
     "data": {
      "text/html": [
       "<div>\n",
       "<table border=\"1\" class=\"dataframe\">\n",
       "  <thead>\n",
       "    <tr style=\"text-align: right;\">\n",
       "      <th></th>\n",
       "      <th>user_id</th>\n",
       "      <th>book_id</th>\n",
       "      <th>rating</th>\n",
       "    </tr>\n",
       "  </thead>\n",
       "  <tbody>\n",
       "  </tbody>\n",
       "</table>\n",
       "</div>"
      ],
      "text/plain": [
       "Empty DataFrame\n",
       "Columns: [user_id, book_id, rating]\n",
       "Index: []"
      ]
     },
     "execution_count": 10,
     "metadata": {},
     "output_type": "execute_result"
    }
   ],
   "source": [
    "#check for duplicate ratings(duplicate (user id,book id) combination)\n",
    "ratings[ratings.duplicated(['user_id','book_id'])]"
   ]
  },
  {
   "cell_type": "code",
   "execution_count": 11,
   "metadata": {
    "collapsed": false
   },
   "outputs": [
    {
     "name": "stdout",
     "output_type": "stream",
     "text": [
      "count    53424.000000\n",
      "mean        94.206649\n",
      "std         22.347864\n",
      "min          1.000000\n",
      "25%         81.000000\n",
      "50%         94.000000\n",
      "75%        108.000000\n",
      "max        174.000000\n",
      "Name: rating, dtype: float64\n",
      "3241\n"
     ]
    }
   ],
   "source": [
    "#analyse the ratings \n",
    "print ratings.groupby('user_id')['rating'].count().describe()\n",
    "print len(ratings.groupby('user_id').filter(lambda x: len(x) >= 130).user_id.unique().tolist())"
   ]
  },
  {
   "cell_type": "code",
   "execution_count": 12,
   "metadata": {
    "collapsed": false
   },
   "outputs": [
    {
     "name": "stdout",
     "output_type": "stream",
     "text": [
      "Total users in original ratings dataset:  3241\n"
     ]
    }
   ],
   "source": [
    "ratings=ratings.groupby('user_id').filter(lambda x: len(x) >= 130)\n",
    "users = ratings.user_id.unique().tolist()\n",
    "print \"Total users in original ratings dataset: \", len(users)"
   ]
  },
  {
   "cell_type": "code",
   "execution_count": 13,
   "metadata": {
    "collapsed": false
   },
   "outputs": [
    {
     "name": "stdout",
     "output_type": "stream",
     "text": [
      "Reducing dataset by choosing ratings by a random sample of 2000 users\n"
     ]
    }
   ],
   "source": [
    "#choose 2000 random users\n",
    "print \"Reducing dataset by choosing ratings by a random sample of 2000 users\"\n",
    "\n",
    "users = [ users[i] for i in sorted(random.sample(xrange(len(users)), 2000)) ]\n",
    "ratings=ratings.loc[ratings['user_id'].isin(users)]\n",
    "\n",
    "#merge authors column to the ratings table to create author ratings matrix\n",
    "ratings_2 = pd.merge(ratings,books[['book_id','authors','ratings_count']],on='book_id')\n",
    "\n",
    "ratings = ratings_2"
   ]
  },
  {
   "cell_type": "code",
   "execution_count": 14,
   "metadata": {
    "collapsed": false
   },
   "outputs": [
    {
     "data": {
      "text/html": [
       "<div>\n",
       "<table border=\"1\" class=\"dataframe\">\n",
       "  <thead>\n",
       "    <tr style=\"text-align: right;\">\n",
       "      <th></th>\n",
       "      <th>user_id</th>\n",
       "      <th>book_id</th>\n",
       "      <th>rating</th>\n",
       "      <th>authors</th>\n",
       "      <th>ratings_count</th>\n",
       "    </tr>\n",
       "  </thead>\n",
       "  <tbody>\n",
       "    <tr>\n",
       "      <th>0</th>\n",
       "      <td>75</td>\n",
       "      <td>3254</td>\n",
       "      <td>2</td>\n",
       "      <td>Arnold Lobel</td>\n",
       "      <td>70705</td>\n",
       "    </tr>\n",
       "    <tr>\n",
       "      <th>1</th>\n",
       "      <td>446</td>\n",
       "      <td>3254</td>\n",
       "      <td>4</td>\n",
       "      <td>Arnold Lobel</td>\n",
       "      <td>70705</td>\n",
       "    </tr>\n",
       "    <tr>\n",
       "      <th>2</th>\n",
       "      <td>2276</td>\n",
       "      <td>3254</td>\n",
       "      <td>4</td>\n",
       "      <td>Arnold Lobel</td>\n",
       "      <td>70705</td>\n",
       "    </tr>\n",
       "    <tr>\n",
       "      <th>3</th>\n",
       "      <td>4212</td>\n",
       "      <td>3254</td>\n",
       "      <td>5</td>\n",
       "      <td>Arnold Lobel</td>\n",
       "      <td>70705</td>\n",
       "    </tr>\n",
       "    <tr>\n",
       "      <th>4</th>\n",
       "      <td>4606</td>\n",
       "      <td>3254</td>\n",
       "      <td>3</td>\n",
       "      <td>Arnold Lobel</td>\n",
       "      <td>70705</td>\n",
       "    </tr>\n",
       "  </tbody>\n",
       "</table>\n",
       "</div>"
      ],
      "text/plain": [
       "   user_id  book_id  rating       authors  ratings_count\n",
       "0       75     3254       2  Arnold Lobel          70705\n",
       "1      446     3254       4  Arnold Lobel          70705\n",
       "2     2276     3254       4  Arnold Lobel          70705\n",
       "3     4212     3254       5  Arnold Lobel          70705\n",
       "4     4606     3254       3  Arnold Lobel          70705"
      ]
     },
     "execution_count": 14,
     "metadata": {},
     "output_type": "execute_result"
    }
   ],
   "source": [
    "ratings.head()\n"
   ]
  },
  {
   "cell_type": "code",
   "execution_count": 15,
   "metadata": {
    "collapsed": false
   },
   "outputs": [
    {
     "data": {
      "text/html": [
       "<div>\n",
       "<table border=\"1\" class=\"dataframe\">\n",
       "  <thead>\n",
       "    <tr style=\"text-align: right;\">\n",
       "      <th></th>\n",
       "      <th>user_id</th>\n",
       "      <th>book_id</th>\n",
       "      <th>rating</th>\n",
       "      <th>authors</th>\n",
       "      <th>ratings_count</th>\n",
       "    </tr>\n",
       "  </thead>\n",
       "  <tbody>\n",
       "    <tr>\n",
       "      <th>0</th>\n",
       "      <td>75</td>\n",
       "      <td>3254</td>\n",
       "      <td>2</td>\n",
       "      <td>Arnold Lobel</td>\n",
       "      <td>70705</td>\n",
       "    </tr>\n",
       "    <tr>\n",
       "      <th>1</th>\n",
       "      <td>446</td>\n",
       "      <td>3254</td>\n",
       "      <td>4</td>\n",
       "      <td>Arnold Lobel</td>\n",
       "      <td>70705</td>\n",
       "    </tr>\n",
       "    <tr>\n",
       "      <th>2</th>\n",
       "      <td>2276</td>\n",
       "      <td>3254</td>\n",
       "      <td>4</td>\n",
       "      <td>Arnold Lobel</td>\n",
       "      <td>70705</td>\n",
       "    </tr>\n",
       "    <tr>\n",
       "      <th>3</th>\n",
       "      <td>4212</td>\n",
       "      <td>3254</td>\n",
       "      <td>5</td>\n",
       "      <td>Arnold Lobel</td>\n",
       "      <td>70705</td>\n",
       "    </tr>\n",
       "    <tr>\n",
       "      <th>4</th>\n",
       "      <td>4606</td>\n",
       "      <td>3254</td>\n",
       "      <td>3</td>\n",
       "      <td>Arnold Lobel</td>\n",
       "      <td>70705</td>\n",
       "    </tr>\n",
       "  </tbody>\n",
       "</table>\n",
       "</div>"
      ],
      "text/plain": [
       "   user_id  book_id  rating       authors  ratings_count\n",
       "0       75     3254       2  Arnold Lobel          70705\n",
       "1      446     3254       4  Arnold Lobel          70705\n",
       "2     2276     3254       4  Arnold Lobel          70705\n",
       "3     4212     3254       5  Arnold Lobel          70705\n",
       "4     4606     3254       3  Arnold Lobel          70705"
      ]
     },
     "execution_count": 15,
     "metadata": {},
     "output_type": "execute_result"
    }
   ],
   "source": [
    "ratings_2.head()\n"
   ]
  },
  {
   "cell_type": "code",
   "execution_count": 16,
   "metadata": {
    "collapsed": false
   },
   "outputs": [
    {
     "data": {
      "text/html": [
       "<div>\n",
       "<table border=\"1\" class=\"dataframe\">\n",
       "  <thead>\n",
       "    <tr style=\"text-align: right;\">\n",
       "      <th></th>\n",
       "      <th>user_id</th>\n",
       "      <th>book_id</th>\n",
       "      <th>rating</th>\n",
       "      <th>authors</th>\n",
       "      <th>ratings_count</th>\n",
       "    </tr>\n",
       "  </thead>\n",
       "  <tbody>\n",
       "    <tr>\n",
       "      <th>0</th>\n",
       "      <td>0</td>\n",
       "      <td>3254</td>\n",
       "      <td>2</td>\n",
       "      <td>Arnold Lobel</td>\n",
       "      <td>70705</td>\n",
       "    </tr>\n",
       "    <tr>\n",
       "      <th>1</th>\n",
       "      <td>16</td>\n",
       "      <td>3254</td>\n",
       "      <td>4</td>\n",
       "      <td>Arnold Lobel</td>\n",
       "      <td>70705</td>\n",
       "    </tr>\n",
       "    <tr>\n",
       "      <th>2</th>\n",
       "      <td>77</td>\n",
       "      <td>3254</td>\n",
       "      <td>4</td>\n",
       "      <td>Arnold Lobel</td>\n",
       "      <td>70705</td>\n",
       "    </tr>\n",
       "    <tr>\n",
       "      <th>3</th>\n",
       "      <td>158</td>\n",
       "      <td>3254</td>\n",
       "      <td>5</td>\n",
       "      <td>Arnold Lobel</td>\n",
       "      <td>70705</td>\n",
       "    </tr>\n",
       "    <tr>\n",
       "      <th>4</th>\n",
       "      <td>169</td>\n",
       "      <td>3254</td>\n",
       "      <td>3</td>\n",
       "      <td>Arnold Lobel</td>\n",
       "      <td>70705</td>\n",
       "    </tr>\n",
       "  </tbody>\n",
       "</table>\n",
       "</div>"
      ],
      "text/plain": [
       "   user_id  book_id  rating       authors  ratings_count\n",
       "0        0     3254       2  Arnold Lobel          70705\n",
       "1       16     3254       4  Arnold Lobel          70705\n",
       "2       77     3254       4  Arnold Lobel          70705\n",
       "3      158     3254       5  Arnold Lobel          70705\n",
       "4      169     3254       3  Arnold Lobel          70705"
      ]
     },
     "execution_count": 16,
     "metadata": {},
     "output_type": "execute_result"
    }
   ],
   "source": [
    "ratings_3 = ratings_2\n",
    "ratings_3['user_id'] = ratings_3['user_id'].astype('category').cat.codes\n",
    "ratings_3.head()"
   ]
  },
  {
   "cell_type": "code",
   "execution_count": 17,
   "metadata": {
    "collapsed": false
   },
   "outputs": [
    {
     "data": {
      "text/html": [
       "<div>\n",
       "<table border=\"1\" class=\"dataframe\">\n",
       "  <thead>\n",
       "    <tr style=\"text-align: right;\">\n",
       "      <th></th>\n",
       "      <th>user_id_x</th>\n",
       "      <th>book_id</th>\n",
       "      <th>user_id_y</th>\n",
       "    </tr>\n",
       "  </thead>\n",
       "  <tbody>\n",
       "    <tr>\n",
       "      <th>0</th>\n",
       "      <td>0</td>\n",
       "      <td>3254</td>\n",
       "      <td>0</td>\n",
       "    </tr>\n",
       "    <tr>\n",
       "      <th>1</th>\n",
       "      <td>0</td>\n",
       "      <td>3254</td>\n",
       "      <td>16</td>\n",
       "    </tr>\n",
       "    <tr>\n",
       "      <th>2</th>\n",
       "      <td>0</td>\n",
       "      <td>3254</td>\n",
       "      <td>77</td>\n",
       "    </tr>\n",
       "    <tr>\n",
       "      <th>3</th>\n",
       "      <td>0</td>\n",
       "      <td>3254</td>\n",
       "      <td>158</td>\n",
       "    </tr>\n",
       "    <tr>\n",
       "      <th>4</th>\n",
       "      <td>0</td>\n",
       "      <td>3254</td>\n",
       "      <td>169</td>\n",
       "    </tr>\n",
       "  </tbody>\n",
       "</table>\n",
       "</div>"
      ],
      "text/plain": [
       "   user_id_x  book_id  user_id_y\n",
       "0          0     3254          0\n",
       "1          0     3254         16\n",
       "2          0     3254         77\n",
       "3          0     3254        158\n",
       "4          0     3254        169"
      ]
     },
     "execution_count": 17,
     "metadata": {},
     "output_type": "execute_result"
    }
   ],
   "source": [
    "user_id_to_int = pd.merge(ratings_3[['user_id','book_id']],ratings_2[['user_id','book_id']],on='book_id')\n",
    "user_id_to_int.head()"
   ]
  },
  {
   "cell_type": "code",
   "execution_count": 18,
   "metadata": {
    "collapsed": false
   },
   "outputs": [
    {
     "name": "stdout",
     "output_type": "stream",
     "text": [
      "2000 8134 3148\n"
     ]
    }
   ],
   "source": [
    "#to get contiguous IDs for books , users and authors\n",
    "ratings['user_id'] = ratings['user_id'].astype('category').cat.codes\n",
    "ratings['book_id'] = ratings['book_id'].astype('category').cat.codes\n",
    "ratings['authors'] = ratings['authors'].astype('category').cat.codes\n",
    "\n",
    "\n",
    "n_users = 1 + ratings['user_id'].max()\n",
    "n_books = 1 + ratings['book_id'].max()\n",
    "n_authors = 1 + ratings['authors'].max()\n",
    "print n_users,n_books,n_authors"
   ]
  },
  {
   "cell_type": "code",
   "execution_count": 19,
   "metadata": {
    "collapsed": false
   },
   "outputs": [
    {
     "name": "stdout",
     "output_type": "stream",
     "text": [
      "n_users 2000\n",
      "n_books 8134\n",
      "n_authors 3148\n"
     ]
    },
    {
     "data": {
      "text/html": [
       "<div>\n",
       "<table border=\"1\" class=\"dataframe\">\n",
       "  <thead>\n",
       "    <tr style=\"text-align: right;\">\n",
       "      <th></th>\n",
       "      <th>user_id</th>\n",
       "      <th>book_id</th>\n",
       "      <th>rating</th>\n",
       "      <th>authors</th>\n",
       "      <th>ratings_count</th>\n",
       "    </tr>\n",
       "  </thead>\n",
       "  <tbody>\n",
       "    <tr>\n",
       "      <th>0</th>\n",
       "      <td>0</td>\n",
       "      <td>2752</td>\n",
       "      <td>2</td>\n",
       "      <td>228</td>\n",
       "      <td>70705</td>\n",
       "    </tr>\n",
       "    <tr>\n",
       "      <th>1</th>\n",
       "      <td>16</td>\n",
       "      <td>2752</td>\n",
       "      <td>4</td>\n",
       "      <td>228</td>\n",
       "      <td>70705</td>\n",
       "    </tr>\n",
       "    <tr>\n",
       "      <th>2</th>\n",
       "      <td>77</td>\n",
       "      <td>2752</td>\n",
       "      <td>4</td>\n",
       "      <td>228</td>\n",
       "      <td>70705</td>\n",
       "    </tr>\n",
       "    <tr>\n",
       "      <th>3</th>\n",
       "      <td>158</td>\n",
       "      <td>2752</td>\n",
       "      <td>5</td>\n",
       "      <td>228</td>\n",
       "      <td>70705</td>\n",
       "    </tr>\n",
       "    <tr>\n",
       "      <th>4</th>\n",
       "      <td>169</td>\n",
       "      <td>2752</td>\n",
       "      <td>3</td>\n",
       "      <td>228</td>\n",
       "      <td>70705</td>\n",
       "    </tr>\n",
       "  </tbody>\n",
       "</table>\n",
       "</div>"
      ],
      "text/plain": [
       "   user_id  book_id  rating  authors  ratings_count\n",
       "0        0     2752       2      228          70705\n",
       "1       16     2752       4      228          70705\n",
       "2       77     2752       4      228          70705\n",
       "3      158     2752       5      228          70705\n",
       "4      169     2752       3      228          70705"
      ]
     },
     "execution_count": 19,
     "metadata": {},
     "output_type": "execute_result"
    }
   ],
   "source": [
    "n_users = ratings.user_id.unique().shape[0]\n",
    "n_books = ratings.book_id.unique().shape[0]\n",
    "n_authors = ratings.authors.unique().shape[0]\n",
    "\n",
    "print \"n_users\" , n_users\n",
    "print \"n_books\" , n_books\n",
    "print \"n_authors\" , n_authors\n",
    "\n",
    "ratings.head()"
   ]
  },
  {
   "cell_type": "code",
   "execution_count": 20,
   "metadata": {
    "collapsed": false
   },
   "outputs": [
    {
     "data": {
      "text/html": [
       "<div>\n",
       "<table border=\"1\" class=\"dataframe\">\n",
       "  <thead>\n",
       "    <tr style=\"text-align: right;\">\n",
       "      <th></th>\n",
       "      <th>user_id</th>\n",
       "      <th>book_id</th>\n",
       "      <th>rating</th>\n",
       "      <th>authors</th>\n",
       "      <th>ratings_count</th>\n",
       "    </tr>\n",
       "  </thead>\n",
       "  <tbody>\n",
       "    <tr>\n",
       "      <th>234810</th>\n",
       "      <td>1629</td>\n",
       "      <td>935</td>\n",
       "      <td>2</td>\n",
       "      <td>1670</td>\n",
       "      <td>25434</td>\n",
       "    </tr>\n",
       "    <tr>\n",
       "      <th>234805</th>\n",
       "      <td>10</td>\n",
       "      <td>935</td>\n",
       "      <td>3</td>\n",
       "      <td>1670</td>\n",
       "      <td>25434</td>\n",
       "    </tr>\n",
       "    <tr>\n",
       "      <th>234809</th>\n",
       "      <td>1699</td>\n",
       "      <td>935</td>\n",
       "      <td>3</td>\n",
       "      <td>1670</td>\n",
       "      <td>25434</td>\n",
       "    </tr>\n",
       "    <tr>\n",
       "      <th>234806</th>\n",
       "      <td>100</td>\n",
       "      <td>935</td>\n",
       "      <td>4</td>\n",
       "      <td>1670</td>\n",
       "      <td>25434</td>\n",
       "    </tr>\n",
       "    <tr>\n",
       "      <th>234807</th>\n",
       "      <td>1297</td>\n",
       "      <td>935</td>\n",
       "      <td>2</td>\n",
       "      <td>1670</td>\n",
       "      <td>25434</td>\n",
       "    </tr>\n",
       "  </tbody>\n",
       "</table>\n",
       "</div>"
      ],
      "text/plain": [
       "        user_id  book_id  rating  authors  ratings_count\n",
       "234810     1629      935       2     1670          25434\n",
       "234805       10      935       3     1670          25434\n",
       "234809     1699      935       3     1670          25434\n",
       "234806      100      935       4     1670          25434\n",
       "234807     1297      935       2     1670          25434"
      ]
     },
     "execution_count": 20,
     "metadata": {},
     "output_type": "execute_result"
    }
   ],
   "source": [
    "from sklearn import cross_validation as cv\n",
    "train_data, test_data = cv.train_test_split(ratings, test_size=0.25)\n",
    "\n",
    "train_data[train_data['book_id']==935]\n"
   ]
  },
  {
   "cell_type": "code",
   "execution_count": 21,
   "metadata": {
    "collapsed": true
   },
   "outputs": [],
   "source": [
    "#create train and test ratings matrices\n",
    "train_data_books_matrix = np.zeros((n_users, n_books))\n",
    "for line in train_data.itertuples():\n",
    "    train_data_books_matrix[line[1], line[2]] = line[3]\n",
    "\n",
    "test_data_books_matrix = np.zeros((n_users, n_books))\n",
    "for line in test_data.itertuples():\n",
    "    test_data_books_matrix[line[1], line[2]] = line[3]"
   ]
  },
  {
   "cell_type": "code",
   "execution_count": 22,
   "metadata": {
    "collapsed": false
   },
   "outputs": [
    {
     "name": "stdout",
     "output_type": "stream",
     "text": [
      "(2000, 2000)\n",
      "(8134, 8134)\n"
     ]
    }
   ],
   "source": [
    "#find similarities\n",
    "from sklearn.metrics.pairwise import pairwise_distances\n",
    "user_similarity = pairwise_distances(train_data_books_matrix, metric='cosine')\n",
    "item_similarity = pairwise_distances(train_data_books_matrix.T, metric='cosine')\n",
    "\n",
    "\n",
    "print user_similarity.shape\n",
    "print item_similarity.shape"
   ]
  },
  {
   "cell_type": "code",
   "execution_count": 23,
   "metadata": {
    "collapsed": true
   },
   "outputs": [],
   "source": [
    "#ratings prediction matrix generation function\n",
    "def predict(ratings, similarity, type='user'):\n",
    "    if type == 'user':\n",
    "        mean_user_rating = ratings.mean(axis=1)\n",
    "        ratings_diff = (ratings - mean_user_rating[:, np.newaxis])\n",
    "        pred = mean_user_rating[:, np.newaxis] + similarity.dot(ratings_diff) / np.array([np.abs(similarity).sum(axis=1)]).T\n",
    "    elif type == 'item':\n",
    "        pred = ratings.dot(similarity) / np.array([np.abs(similarity).sum(axis=1)])\n",
    "    return pred"
   ]
  },
  {
   "cell_type": "code",
   "execution_count": 24,
   "metadata": {
    "collapsed": false
   },
   "outputs": [
    {
     "data": {
      "text/plain": [
       "(2000, 8134)"
      ]
     },
     "execution_count": 24,
     "metadata": {},
     "output_type": "execute_result"
    }
   ],
   "source": [
    "item_prediction = predict(train_data_books_matrix, item_similarity, type='item')\n",
    "user_prediction = predict(train_data_books_matrix, user_similarity, type='user')\n",
    "\n",
    "item_prediction.shape"
   ]
  },
  {
   "cell_type": "code",
   "execution_count": 25,
   "metadata": {
    "collapsed": false
   },
   "outputs": [
    {
     "data": {
      "text/plain": [
       "(2000, 8134)"
      ]
     },
     "execution_count": 25,
     "metadata": {},
     "output_type": "execute_result"
    }
   ],
   "source": [
    "test_data_books_matrix.shape"
   ]
  },
  {
   "cell_type": "code",
   "execution_count": 26,
   "metadata": {
    "collapsed": true
   },
   "outputs": [],
   "source": [
    "from sklearn.metrics import mean_squared_error\n",
    "from math import sqrt\n",
    "def rmse(prediction, ground_truth):\n",
    "    prediction = prediction[ground_truth.nonzero()].flatten()\n",
    "    ground_truth = ground_truth[ground_truth.nonzero()].flatten()\n",
    "    return sqrt(mean_squared_error(prediction, ground_truth))"
   ]
  },
  {
   "cell_type": "code",
   "execution_count": 27,
   "metadata": {
    "collapsed": false
   },
   "outputs": [
    {
     "name": "stdout",
     "output_type": "stream",
     "text": [
      "User-based CF RMSE: 3.70477418269\n",
      "Item-based CF RMSE: 3.94684813691\n"
     ]
    }
   ],
   "source": [
    "print 'User-based CF RMSE: ' + str(rmse(user_prediction, test_data_books_matrix))\n",
    "print 'Item-based CF RMSE: ' + str(rmse(item_prediction, test_data_books_matrix))"
   ]
  },
  {
   "cell_type": "code",
   "execution_count": 28,
   "metadata": {
    "collapsed": false
   },
   "outputs": [
    {
     "data": {
      "text/html": [
       "<div>\n",
       "<table border=\"1\" class=\"dataframe\">\n",
       "  <thead>\n",
       "    <tr style=\"text-align: right;\">\n",
       "      <th></th>\n",
       "      <th></th>\n",
       "      <th>rating</th>\n",
       "    </tr>\n",
       "    <tr>\n",
       "      <th>user_id</th>\n",
       "      <th>authors</th>\n",
       "      <th></th>\n",
       "    </tr>\n",
       "  </thead>\n",
       "  <tbody>\n",
       "    <tr>\n",
       "      <th rowspan=\"5\" valign=\"top\">0</th>\n",
       "      <th>29</th>\n",
       "      <td>2.0</td>\n",
       "    </tr>\n",
       "    <tr>\n",
       "      <th>50</th>\n",
       "      <td>4.0</td>\n",
       "    </tr>\n",
       "    <tr>\n",
       "      <th>156</th>\n",
       "      <td>2.0</td>\n",
       "    </tr>\n",
       "    <tr>\n",
       "      <th>215</th>\n",
       "      <td>4.0</td>\n",
       "    </tr>\n",
       "    <tr>\n",
       "      <th>362</th>\n",
       "      <td>1.0</td>\n",
       "    </tr>\n",
       "  </tbody>\n",
       "</table>\n",
       "</div>"
      ],
      "text/plain": [
       "                 rating\n",
       "user_id authors        \n",
       "0       29          2.0\n",
       "        50          4.0\n",
       "        156         2.0\n",
       "        215         4.0\n",
       "        362         1.0"
      ]
     },
     "execution_count": 28,
     "metadata": {},
     "output_type": "execute_result"
    }
   ],
   "source": [
    "#obtain author ratings from book ratings by users \n",
    "author_ratings_train=pd.DataFrame(train_data.groupby(['user_id','authors'])['rating'].mean())\n",
    "author_ratings_train.head()\n",
    "\n",
    "author_ratings_test=pd.DataFrame(test_data.groupby(['user_id','authors'])['rating'].mean())\n",
    "author_ratings_test.head()\n"
   ]
  },
  {
   "cell_type": "code",
   "execution_count": 29,
   "metadata": {
    "collapsed": false
   },
   "outputs": [],
   "source": [
    "train_data_authors_matrix = np.zeros((n_users, n_authors))\n",
    "for line in author_ratings_train.itertuples():\n",
    "    train_data_authors_matrix[line[0][0], line[0][1]] = line[1]\n",
    "    \n",
    "test_data_authors_matrix = np.zeros((n_users, n_authors))\n",
    "for line in author_ratings_test.itertuples():\n",
    "    test_data_authors_matrix[line[0][0], line[0][1]] = line[1]"
   ]
  },
  {
   "cell_type": "code",
   "execution_count": 30,
   "metadata": {
    "collapsed": false
   },
   "outputs": [
    {
     "name": "stdout",
     "output_type": "stream",
     "text": [
      "(2000, 2000)\n",
      "(3148, 3148)\n"
     ]
    }
   ],
   "source": [
    "user_similarity_authors = pairwise_distances(train_data_authors_matrix, metric='cosine')\n",
    "item_similarity_authors = pairwise_distances(train_data_authors_matrix.T, metric='cosine')\n",
    "\n",
    "print user_similarity_authors.shape\n",
    "print item_similarity_authors.shape\n"
   ]
  },
  {
   "cell_type": "code",
   "execution_count": 31,
   "metadata": {
    "collapsed": true
   },
   "outputs": [],
   "source": [
    "item_prediction_2 = predict(train_data_authors_matrix, item_similarity_authors, type='item')\n",
    "user_prediction_2 = predict(train_data_authors_matrix, user_similarity_authors, type='user')"
   ]
  },
  {
   "cell_type": "code",
   "execution_count": 32,
   "metadata": {
    "collapsed": false
   },
   "outputs": [
    {
     "data": {
      "text/plain": [
       "(2000, 3148)"
      ]
     },
     "execution_count": 32,
     "metadata": {},
     "output_type": "execute_result"
    }
   ],
   "source": [
    "item_prediction_2.shape"
   ]
  },
  {
   "cell_type": "code",
   "execution_count": 33,
   "metadata": {
    "collapsed": false
   },
   "outputs": [
    {
     "name": "stdout",
     "output_type": "stream",
     "text": [
      "User-based CF RMSE: 3.89278162402\n",
      "Item-based CF RMSE: 3.94344310987\n"
     ]
    }
   ],
   "source": [
    "print 'User-based CF RMSE: ' + str(rmse(user_prediction, test_data_authors_matrix))\n",
    "print 'Item-based CF RMSE: ' + str(rmse(item_prediction, test_data_authors_matrix))"
   ]
  },
  {
   "cell_type": "code",
   "execution_count": 34,
   "metadata": {
    "collapsed": false
   },
   "outputs": [
    {
     "name": "stdout",
     "output_type": "stream",
     "text": [
      "(2000, 8134)\n",
      "[[ 25359.  17411.  13103. ...,  33212.  27015.      0.]\n",
      " [ 25359.  17411.  13103. ...,  33212.  27015.      0.]\n",
      " [ 25359.  17411.  13103. ...,  33212.  27015.      0.]\n",
      " ..., \n",
      " [ 25359.  17411.  13103. ...,  33212.  27015.      0.]\n",
      " [ 25359.  17411.  13103. ...,  33212.  27015.      0.]\n",
      " [ 25359.  17411.  13103. ...,  33212.  27015.      0.]]\n"
     ]
    }
   ],
   "source": [
    "#expansion of author ratings to book ratings matrix \n",
    "author_to_books_prediction = np.zeros((n_users,n_books))\n",
    "print author_to_books_prediction.shape\n",
    "\n",
    "\n",
    "for line in train_data.itertuples():\n",
    "    x= train_data[train_data['book_id']==line[2]]['ratings_count'].iloc[0]\n",
    "    author_to_books_prediction[:,line[2]].fill( x )\n",
    "        \n",
    "    \n",
    "author_to_books_prediction.shape\n",
    "print author_to_books_prediction"
   ]
  },
  {
   "cell_type": "code",
   "execution_count": 35,
   "metadata": {
    "collapsed": false
   },
   "outputs": [
    {
     "name": "stdout",
     "output_type": "stream",
     "text": [
      "[  464.  1208.  2264. ...,  2314.  1580.     0.]\n"
     ]
    }
   ],
   "source": [
    "author_array=np.zeros(n_books)\n",
    "\n",
    "for line in train_data.itertuples():\n",
    "    x= train_data[train_data['book_id']==line[2]]['authors'].iloc[0]\n",
    "    author_array[line[2]] = x\n",
    "        \n",
    "    \n",
    "print author_array"
   ]
  },
  {
   "cell_type": "code",
   "execution_count": 36,
   "metadata": {
    "collapsed": false
   },
   "outputs": [],
   "source": [
    "author_to_books_prediction_2 = np.zeros((n_users,n_books))\n",
    "\n",
    "for i in xrange(n_books):\n",
    "    author_id = int(author_array[i])\n",
    "    author_to_books_prediction_2[:,i] = np.multiply( author_to_books_prediction[:,i], item_prediction_2[:,author_id])       "
   ]
  },
  {
   "cell_type": "code",
   "execution_count": 37,
   "metadata": {
    "collapsed": false
   },
   "outputs": [
    {
     "data": {
      "text/plain": [
       "(2000, 8134)"
      ]
     },
     "execution_count": 37,
     "metadata": {},
     "output_type": "execute_result"
    }
   ],
   "source": [
    "author_to_books_prediction_2.shape\n"
   ]
  },
  {
   "cell_type": "code",
   "execution_count": 38,
   "metadata": {
    "collapsed": false
   },
   "outputs": [],
   "source": [
    "#rescaling predictions between 0 and 5\n",
    "author_to_books_prediction_3 = np.zeros((n_users,n_books))\n",
    "\n",
    "for i in xrange(n_books):\n",
    "    min_val = author_to_books_prediction_2[:,i].min()\n",
    "    max_val = author_to_books_prediction_2[:,i].max()\n",
    "    if max_val==min_val: \n",
    "        continue\n",
    "    x= np.full((1,n_users),min_val)\n",
    "    y=np.subtract(author_to_books_prediction_2[:,i],x)\n",
    "    z= 5*y/(max_val-min_val)\n",
    "    author_to_books_prediction_3[:,i] = z"
   ]
  },
  {
   "cell_type": "code",
   "execution_count": 39,
   "metadata": {
    "collapsed": false
   },
   "outputs": [
    {
     "data": {
      "text/plain": [
       "array([[ 2.19659095,  2.21303624,  2.35435786, ...,  2.43383404,\n",
       "         2.40431882,  0.        ],\n",
       "       [ 2.2341085 ,  2.23859059,  2.24540898, ...,  2.29174696,\n",
       "         2.28017894,  0.        ],\n",
       "       [ 1.85658455,  1.88292076,  1.84539151, ...,  1.67705488,\n",
       "         1.6712282 ,  0.        ],\n",
       "       ..., \n",
       "       [ 2.46196973,  2.49445483,  2.63527063, ...,  2.80045059,\n",
       "         2.74869549,  0.        ],\n",
       "       [ 4.39086404,  4.42501828,  4.68538925, ...,  4.78154055,\n",
       "         4.75613739,  0.        ],\n",
       "       [ 2.51589056,  2.46594367,  2.5849116 , ...,  2.5045315 ,\n",
       "         2.49290822,  0.        ]])"
      ]
     },
     "execution_count": 39,
     "metadata": {},
     "output_type": "execute_result"
    }
   ],
   "source": [
    "author_to_books_prediction_3"
   ]
  },
  {
   "cell_type": "code",
   "execution_count": 40,
   "metadata": {
    "collapsed": false
   },
   "outputs": [
    {
     "name": "stdout",
     "output_type": "stream",
     "text": [
      "(2000, 8134)\n",
      "(2000, 8134)\n"
     ]
    }
   ],
   "source": [
    "#item similarity\n",
    "book_ratings_prediction_1 = item_prediction\n",
    "book_ratings_prediction_2 = author_to_books_prediction_3\n",
    "\n",
    "print book_ratings_prediction_1.shape\n",
    "print book_ratings_prediction_2.shape\n",
    "\n"
   ]
  },
  {
   "cell_type": "code",
   "execution_count": 41,
   "metadata": {
    "collapsed": false
   },
   "outputs": [
    {
     "data": {
      "text/plain": [
       "array([[ 1.11728455,  1.12552001,  1.19689219,  1.12581343,  1.18706743],\n",
       "       [ 1.13651861,  1.13894419,  1.14243619,  1.14626642,  1.174681  ],\n",
       "       [ 0.94535928,  0.95882713,  0.93993805,  0.99639048,  0.97155068],\n",
       "       [ 0.95642301,  0.97682148,  1.02409982,  0.97108459,  0.99334215],\n",
       "       [ 1.44865173,  1.47856255,  1.51896284,  1.47900414,  1.46151406]])"
      ]
     },
     "execution_count": 41,
     "metadata": {},
     "output_type": "execute_result"
    }
   ],
   "source": [
    "#item similarity\n",
    "final_prediction = np.mean([book_ratings_prediction_1,book_ratings_prediction_2],axis=0)\n",
    "final_prediction[0:5,0:5]"
   ]
  },
  {
   "cell_type": "code",
   "execution_count": 42,
   "metadata": {
    "collapsed": false
   },
   "outputs": [
    {
     "name": "stdout",
     "output_type": "stream",
     "text": [
      "Item-based CF RMSE for hybrid book recommender system: 2.71253423638\n"
     ]
    }
   ],
   "source": [
    "print 'Item-based CF RMSE for hybrid book recommender system: ' + str(rmse(final_prediction, test_data_books_matrix))"
   ]
  },
  {
   "cell_type": "code",
   "execution_count": 43,
   "metadata": {
    "collapsed": true
   },
   "outputs": [],
   "source": [
    "author_to_books_prediction_4 = np.zeros((n_users,n_books))\n",
    "\n",
    "\n",
    "for i in xrange(n_books):\n",
    "    author_id = int(author_array[i])\n",
    "    author_to_books_prediction_4[:,i] = np.multiply( author_to_books_prediction[:,i], user_prediction_2[:,author_id])\n"
   ]
  },
  {
   "cell_type": "code",
   "execution_count": 44,
   "metadata": {
    "collapsed": false
   },
   "outputs": [
    {
     "data": {
      "text/plain": [
       "(2000, 8134)"
      ]
     },
     "execution_count": 44,
     "metadata": {},
     "output_type": "execute_result"
    }
   ],
   "source": [
    "author_to_books_prediction_4.shape\n"
   ]
  },
  {
   "cell_type": "code",
   "execution_count": 45,
   "metadata": {
    "collapsed": true
   },
   "outputs": [],
   "source": [
    "#rescaling the predictions between 0 and 5\n",
    "author_to_books_prediction_5 = np.zeros((n_users,n_books))\n",
    "\n",
    "for i in xrange(n_books):\n",
    "    min_val = author_to_books_prediction_4[:,i].min()\n",
    "    max_val = author_to_books_prediction_4[:,i].max()\n",
    "    if max_val==min_val: \n",
    "        continue\n",
    "    x= np.full((1,n_users),min_val)\n",
    "    y=np.subtract(author_to_books_prediction_4[:,i],x)\n",
    "    z= 5*y/(max_val-min_val)\n",
    "    author_to_books_prediction_5[:,i] = z"
   ]
  },
  {
   "cell_type": "code",
   "execution_count": 46,
   "metadata": {
    "collapsed": false
   },
   "outputs": [
    {
     "data": {
      "text/plain": [
       "array([[ 1.29023559,  1.58980589,  2.05229325, ...,  2.43863875,\n",
       "         2.42307029,  0.        ],\n",
       "       [ 1.82262458,  1.90933063,  1.71236125, ...,  2.28188285,\n",
       "         2.29379885,  0.        ],\n",
       "       [ 1.16397694,  2.21288885,  1.70656507, ...,  1.65218526,\n",
       "         1.64518422,  0.        ],\n",
       "       ..., \n",
       "       [ 2.16628869,  2.59601725,  2.37168425, ...,  2.82243178,\n",
       "         2.77509165,  0.        ],\n",
       "       [ 3.71156769,  4.02886237,  4.66490308, ...,  4.7915809 ,\n",
       "         4.78159606,  0.        ],\n",
       "       [ 1.73930508,  1.91142938,  2.31348176, ...,  2.49024979,\n",
       "         2.47791293,  0.        ]])"
      ]
     },
     "execution_count": 46,
     "metadata": {},
     "output_type": "execute_result"
    }
   ],
   "source": [
    "author_to_books_prediction_5"
   ]
  },
  {
   "cell_type": "code",
   "execution_count": 47,
   "metadata": {
    "collapsed": false
   },
   "outputs": [
    {
     "name": "stdout",
     "output_type": "stream",
     "text": [
      "(2000, 8134)\n",
      "(2000, 8134)\n"
     ]
    }
   ],
   "source": [
    "#user similarity\n",
    "book_ratings_prediction_3 = user_prediction\n",
    "book_ratings_prediction_4 = author_to_books_prediction_5\n",
    "\n",
    "print book_ratings_prediction_3.shape\n",
    "print book_ratings_prediction_4.shape\n",
    "\n"
   ]
  },
  {
   "cell_type": "code",
   "execution_count": 48,
   "metadata": {
    "collapsed": false
   },
   "outputs": [
    {
     "data": {
      "text/plain": [
       "array([[ 1.45129585,  1.53177002,  1.47156128,  1.56529136,  1.86201589],\n",
       "       [ 1.72431939,  1.69736302,  1.29972001,  1.70252905,  1.78468841],\n",
       "       [ 1.39920558,  1.86240674,  1.3013685 ,  1.89207196,  1.47167032],\n",
       "       [ 1.34810718,  1.50243582,  1.24502985,  1.50318132,  1.37457921],\n",
       "       [ 1.91319142,  2.36880553,  1.95951134,  2.19294824,  1.90719731]])"
      ]
     },
     "execution_count": 48,
     "metadata": {},
     "output_type": "execute_result"
    }
   ],
   "source": [
    "#user similarity\n",
    "final_prediction_2 = np.mean([book_ratings_prediction_3,book_ratings_prediction_4],axis=0)\n",
    "final_prediction_2[0:5,0:5]"
   ]
  },
  {
   "cell_type": "code",
   "execution_count": 49,
   "metadata": {
    "collapsed": false
   },
   "outputs": [
    {
     "name": "stdout",
     "output_type": "stream",
     "text": [
      "User-based CF RMSE for hybrid book recommender system: 2.63787536787\n"
     ]
    }
   ],
   "source": [
    "print 'User-based CF RMSE for hybrid book recommender system: ' + str(rmse(final_prediction_2, test_data_books_matrix))"
   ]
  }
 ],
 "metadata": {
  "anaconda-cloud": {},
  "kernelspec": {
   "display_name": "Python [conda env:ML]",
   "language": "python",
   "name": "conda-env-ML-py"
  },
  "language_info": {
   "codemirror_mode": {
    "name": "ipython",
    "version": 2
   },
   "file_extension": ".py",
   "mimetype": "text/x-python",
   "name": "python",
   "nbconvert_exporter": "python",
   "pygments_lexer": "ipython2",
   "version": "2.7.12"
  }
 },
 "nbformat": 4,
 "nbformat_minor": 2
}
